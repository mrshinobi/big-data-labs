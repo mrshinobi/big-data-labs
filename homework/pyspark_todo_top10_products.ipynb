{
 "cells": [
  {
   "cell_type": "markdown",
   "source": [
    "# TODO: Zadanie – Produkty z najwyższym zyskiem\n",
    "\n",
    "## Cel:\n",
    "- Połącz informacje o produktach z danymi o zysku z zamówień.\n",
    "- Wyświetl 10 produktów generujących najwyższy zysk.\n",
    "\n",
    "W formie SQL wyglądałoby to tak:\n",
    "\n",
    "```sql\n",
    "select distinct p.product_id, p.product_name, r.revenue\n",
    "from products p\n",
    "inner join\n",
    "(\n",
    "    select oi.order_item_product_id, sum(cast(oi.order_item_subtotal as float)) as revenue\n",
    "    from order_items oi inner join orders o on oi.order_item_order_id = o.order_id\n",
    "    where o.order_status <> 'CANCELED' and o.order_status <> 'SUSPECTED_FRAUD'\n",
    "    group by order_item_product_id\n",
    ") r\n",
    "on p.product_id = r.order_item_product_id\n",
    "order by r.revenue desc\n",
    "limit 10;\n",
    "```\n"
   ],
   "metadata": {
    "collapsed": false
   },
   "id": "1e64f4d5dde18b80"
  },
  {
   "cell_type": "markdown",
   "source": [
    "## Uruchomienie sesji Spark"
   ],
   "metadata": {
    "collapsed": false
   },
   "id": "123fa04e0f4a7402"
  },
  {
   "cell_type": "code",
   "outputs": [],
   "source": [
    "from pyspark.sql import SparkSession\n",
    "\n",
    "spark = SparkSession.builder.appName(\"TopRevenueProducts\").getOrCreate()"
   ],
   "metadata": {
    "collapsed": false
   },
   "id": "bddfc8621ed884c4"
  },
  {
   "cell_type": "markdown",
   "source": [
    "## Wczytanie danych"
   ],
   "metadata": {
    "collapsed": false
   },
   "id": "24281037829d5058"
  },
  {
   "cell_type": "code",
   "outputs": [],
   "source": [
    "# TODO: Zweryfikuj ścieżki do katalogów, poprawiając je w razie potrzeby\n",
    "project_dir = \"<PROJECT_DIR>\"\n",
    "data_dir = f\"{project_dir}/data\"\n",
    "outputs_dir = f\"{data_dir}/outputs\"\n",
    "\n",
    "input_tables = f\"{data_dir}/sklep\"\n",
    "output_tables = f\"{outputs_dir}/sklep\""
   ],
   "metadata": {
    "collapsed": false
   },
   "id": "fd36fb966f837b75"
  },
  {
   "cell_type": "code",
   "outputs": [],
   "source": [
    "products = spark.read.parquet(\"<TABLE_PRODUCTS_DIR>\")  # TODO: Uzupełnij ścieżkę do tabeli products\n",
    "order_items = ...  # TODO: Uzupełnij ścieżkę do tabeli order_items\n",
    "orders = ...  # TODO: Uzupełnij ścieżkę do tabeli orders "
   ],
   "metadata": {
    "collapsed": false
   },
   "id": "46a05a286532c337"
  },
  {
   "cell_type": "markdown",
   "source": [
    "## Odfiltrowanie fałszywych zamówień\n",
    "\n",
    "Musimy odfiltrować zamówienia z anulowanymi i podejrzanymi transakcjami. W tym celu użyjemy kolumny `order_status` z tabeli `orders`."
   ],
   "metadata": {
    "collapsed": false
   },
   "id": "20529b09daf0d5a2"
  },
  {
   "cell_type": "code",
   "outputs": [],
   "source": [
    "valid_orders = orders.filter(...)  # TODO: Uzupełnij warunek filtrowania"
   ],
   "metadata": {
    "collapsed": false
   },
   "id": "85baf54f25a12cb2"
  },
  {
   "cell_type": "markdown",
   "source": [
    "## Obliczenie przychodu dla produktu\n",
    "\n",
    "Do obliczenia Top10 najpierw wyliczymy zysk dla każdego produktu. \n",
    "\n",
    "W tym celu:\n",
    "- **TODO**: Połącz tabelę `order_items` z tabelą `orders`\n",
    "- **TODO**: Zgrupuj dane po `order_item_product_id`\n",
    "- **TODO**: Zsumuj kolumnę `order_item_subtotal` i nadaj alias `revenue`\n"
   ],
   "metadata": {
    "collapsed": false
   },
   "id": "6e2fb97f47914c56"
  },
  {
   "cell_type": "code",
   "outputs": [],
   "source": [
    "from pyspark.sql.functions import sum as _sum\n",
    "\n",
    "revenue_per_product = (\n",
    "    order_items\n",
    "    .join(..., ...)\n",
    "    .groupBy(...)\n",
    "    .agg(...)\n",
    ")"
   ],
   "metadata": {
    "collapsed": false
   },
   "id": "1833311a24dfa5f0"
  },
  {
   "cell_type": "markdown",
   "source": [
    "## Połączenie zysku z produktami\n",
    "\n",
    "Ostatnim krokiem jest wyciągnięcie 10 produktów z najwyższym zyskiem. W tym celu:\n",
    "\n",
    "- **TODO**: Połącz dane `products` i `revenue_per_product`\n",
    "- **TODO**: Wybierz kolumny `product_id`, `product_name`, `revenue`\n",
    "- **TODO**: Posortuj malejąco po `revenue` i wybierz 10 najlepszych produktów"
   ],
   "metadata": {
    "collapsed": false
   },
   "id": "525741266013b667"
  },
  {
   "cell_type": "code",
   "outputs": [],
   "source": [
    "top_products = (\n",
    "    products\n",
    "    .join(..., ...)\n",
    "    .select(...)\n",
    "    .orderBy(...)\n",
    "    .limit(10)\n",
    ")"
   ],
   "metadata": {
    "collapsed": false
   },
   "id": "d90237fda1033bf9",
   "execution_count": null
  },
  {
   "cell_type": "markdown",
   "source": [
    "## Wyświetlenie produktów"
   ],
   "metadata": {
    "collapsed": false
   },
   "id": "55334fb73e4ee6dc"
  },
  {
   "cell_type": "code",
   "outputs": [],
   "source": [
    "# TODO wyświetl 10 produktów"
   ],
   "metadata": {
    "collapsed": false,
    "ExecuteTime": {
     "end_time": "2025-04-26T16:09:58.844202Z",
     "start_time": "2025-04-26T16:09:58.839894Z"
    }
   },
   "id": "f1a25f48c7e84cac",
   "execution_count": 7
  },
  {
   "cell_type": "markdown",
   "source": [
    "## Zapisanie wyników do pliku\n",
    "\n",
    "Zapisz wyniki do pliku w formacie Parquet. Użyj katalogu `outputs` i nazwij plik `top_products.parquet`."
   ],
   "metadata": {
    "collapsed": false
   },
   "id": "856172ffc0586bd1"
  },
  {
   "cell_type": "code",
   "outputs": [],
   "source": [
    "# TODO zapisz wyniki do pliku "
   ],
   "metadata": {
    "collapsed": false
   },
   "id": "a762c19da6e3912f"
  }
 ],
 "metadata": {
  "kernelspec": {
   "display_name": "Python 3",
   "language": "python",
   "name": "python3"
  },
  "language_info": {
   "codemirror_mode": {
    "name": "ipython",
    "version": 2
   },
   "file_extension": ".py",
   "mimetype": "text/x-python",
   "name": "python",
   "nbconvert_exporter": "python",
   "pygments_lexer": "ipython2",
   "version": "2.7.6"
  }
 },
 "nbformat": 4,
 "nbformat_minor": 5
}
