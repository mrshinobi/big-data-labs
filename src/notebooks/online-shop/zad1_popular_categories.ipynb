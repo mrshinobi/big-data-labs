{
 "cells": [
  {
   "cell_type": "markdown",
   "id": "bea27cdb-13c0-420a-acf1-143ac6049d15",
   "metadata": {},
   "source": [
    "# 📈 Zadanie 1: Najbardziej popularne kategorie produktów\n",
    "\n",
    "Cel:\n",
    "- Załaduj dane o produktach, pozycjach zamówień i kategoriach z plików Parquet.\n",
    "- Połącz dane, aby określić, które kategorie mają największą liczbę sprzedanych przedmiotów.\n",
    "- Wyświetl 10 najpopularniejszych kategorii według liczby sprzedanych sztuk.\n",
    "- Zapisz wyniki do pliku CSV.\n",
    "- Zbadaj zapisane dane."
   ]
  },
  {
   "cell_type": "markdown",
   "id": "698b112e-cae3-4a5a-95e5-124f28725ecd",
   "metadata": {},
   "source": [
    "## ✅ Krok 1: Uruchomienie sesji Spark"
   ]
  },
  {
   "cell_type": "code",
   "execution_count": 1,
   "id": "08a5f8cb-3d60-47c0-8d66-0f955e964e21",
   "metadata": {
    "ExecuteTime": {
     "end_time": "2025-04-25T18:00:27.746225Z",
     "start_time": "2025-04-25T18:00:25.130893Z"
    }
   },
   "outputs": [
    {
     "name": "stderr",
     "output_type": "stream",
     "text": [
      "25/04/25 20:00:26 WARN Utils: Your hostname, Katana-Pro-2.local resolves to a loopback address: 127.0.0.1; using 192.168.0.108 instead (on interface en0)\n",
      "25/04/25 20:00:26 WARN Utils: Set SPARK_LOCAL_IP if you need to bind to another address\n",
      "Setting default log level to \"WARN\".\n",
      "To adjust logging level use sc.setLogLevel(newLevel). For SparkR, use setLogLevel(newLevel).\n",
      "25/04/25 20:00:26 WARN NativeCodeLoader: Unable to load native-hadoop library for your platform... using builtin-java classes where applicable\n"
     ]
    },
    {
     "data": {
      "text/plain": "<pyspark.sql.session.SparkSession at 0x104b95a60>",
      "text/html": "\n            <div>\n                <p><b>SparkSession - in-memory</b></p>\n                \n        <div>\n            <p><b>SparkContext</b></p>\n\n            <p><a href=\"http://192.168.0.108:4040\">Spark UI</a></p>\n\n            <dl>\n              <dt>Version</dt>\n                <dd><code>v3.5.0</code></dd>\n              <dt>Master</dt>\n                <dd><code>local[*]</code></dd>\n              <dt>AppName</dt>\n                <dd><code>PopularCategories</code></dd>\n            </dl>\n        </div>\n        \n            </div>\n        "
     },
     "execution_count": 1,
     "metadata": {},
     "output_type": "execute_result"
    }
   ],
   "source": [
    "from pyspark.sql import SparkSession\n",
    "from pyspark.sql.functions import col, count\n",
    "\n",
    "spark = SparkSession.builder.appName(\"PopularCategories\").getOrCreate()\n",
    "spark"
   ]
  },
  {
   "cell_type": "markdown",
   "id": "5cc5d8c5-30f5-4e98-9b57-c60890792f85",
   "metadata": {},
   "source": [
    "## ✅ Krok 2: Wczytanie danych z Parquet"
   ]
  },
  {
   "cell_type": "code",
   "execution_count": 14,
   "id": "201ad3e0-7211-478b-851a-0f0b9107562a",
   "metadata": {
    "ExecuteTime": {
     "end_time": "2025-04-25T18:27:02.818525Z",
     "start_time": "2025-04-25T18:27:02.810962Z"
    }
   },
   "outputs": [],
   "source": [
    "project_dir = \"<PROJECT_DIR>\"\n",
    "data_dir = f\"{project_dir}/data\"\n",
    "outputs_dir = f\"{data_dir}/outputs\"\n",
    "input_tables = f\"{data_dir}/sklep/\"\n",
    "output_tables = f\"{outputs_dir}/sklep/\""
   ]
  },
  {
   "cell_type": "code",
   "execution_count": 3,
   "id": "8fbcde43-4630-42b7-b3c9-b14533d7ed40",
   "metadata": {
    "ExecuteTime": {
     "end_time": "2025-04-25T18:00:29.043114Z",
     "start_time": "2025-04-25T18:00:27.750239Z"
    }
   },
   "outputs": [],
   "source": [
    "order_items = spark.read.parquet(f\"{input_tables}/order_items/\")\n",
    "products = spark.read.parquet(f\"{input_tables}/products/\")\n",
    "categories = spark.read.parquet(f\"{input_tables}/categories/\")"
   ]
  },
  {
   "cell_type": "markdown",
   "id": "d24f452e-db98-4e5d-b235-499fbd688bd6",
   "metadata": {},
   "source": [
    "## ✅ Krok 3: Połączenie tabel\n",
    "\n",
    "Połącz tabele w jedną: \n",
    "\n",
    "joined = order_items -> products -> categories\n"
   ]
  },
  {
   "cell_type": "code",
   "execution_count": 4,
   "id": "aa6385c6-80a0-42b5-8a6e-621867183a70",
   "metadata": {
    "ExecuteTime": {
     "end_time": "2025-04-25T18:00:29.112437Z",
     "start_time": "2025-04-25T18:00:29.044358Z"
    }
   },
   "outputs": [],
   "source": [
    "joined_df = order_items \\\n",
    "    .join(products, order_items.order_item_product_id == products.product_id) \\\n",
    "    .join(categories, products.product_category_id == categories.category_id)"
   ]
  },
  {
   "cell_type": "markdown",
   "id": "d337b742-172c-4cee-acdf-e0bdf68a9b4a",
   "metadata": {},
   "source": [
    "## ✅ Krok 4: Grupowanie po kategorii i zliczanie"
   ]
  },
  {
   "cell_type": "code",
   "execution_count": 5,
   "id": "0aa6f120-54e2-4b47-8d71-01387cb28b11",
   "metadata": {
    "ExecuteTime": {
     "end_time": "2025-04-25T18:00:29.164884Z",
     "start_time": "2025-04-25T18:00:29.113056Z"
    }
   },
   "outputs": [],
   "source": [
    "popular_categories = joined_df \\\n",
    "    .groupBy(\"category_name\") \\\n",
    "    .agg(count(\"order_item_quantity\").alias(\"count\")) \\\n",
    "    .orderBy(col(\"count\").desc())"
   ]
  },
  {
   "cell_type": "code",
   "execution_count": 6,
   "id": "ba22a9d2-6fc0-4032-b3d8-8108118dadb4",
   "metadata": {
    "ExecuteTime": {
     "end_time": "2025-04-25T18:00:30.508153Z",
     "start_time": "2025-04-25T18:00:29.165566Z"
    }
   },
   "outputs": [
    {
     "data": {
      "text/plain": "32"
     },
     "execution_count": 6,
     "metadata": {},
     "output_type": "execute_result"
    }
   ],
   "source": [
    "popular_categories.count()"
   ]
  },
  {
   "cell_type": "code",
   "execution_count": 7,
   "id": "9ca53143-d532-4d34-a442-d13b5bbb7f68",
   "metadata": {
    "ExecuteTime": {
     "end_time": "2025-04-25T18:00:30.513581Z",
     "start_time": "2025-04-25T18:00:30.509005Z"
    }
   },
   "outputs": [],
   "source": [
    "top_popular_categories = popular_categories.limit(10)"
   ]
  },
  {
   "cell_type": "markdown",
   "id": "92863e38-00a7-4ee6-9a9f-06762a7cd0a9",
   "metadata": {},
   "source": [
    "## ✅ Krok 5: Wyświetlenie wyników"
   ]
  },
  {
   "cell_type": "code",
   "execution_count": 8,
   "id": "eaf1f6fd-219f-49c6-94d1-437936e1fa03",
   "metadata": {
    "ExecuteTime": {
     "end_time": "2025-04-25T18:00:31.466590Z",
     "start_time": "2025-04-25T18:00:30.514383Z"
    }
   },
   "outputs": [
    {
     "name": "stdout",
     "output_type": "stream",
     "text": [
      "+--------------------+------+\n",
      "|       category_name| count|\n",
      "+--------------------+------+\n",
      "|              Cleats|196408|\n",
      "|      Men's Footwear|177968|\n",
      "|     Women's Apparel|168280|\n",
      "|Indoor/Outdoor Games|154384|\n",
      "|             Fishing|138600|\n",
      "|        Water Sports|124320|\n",
      "|    Camping & Hiking|109832|\n",
      "|    Cardio Equipment| 99896|\n",
      "|       Shop By Sport| 87872|\n",
      "|         Electronics| 25248|\n",
      "+--------------------+------+\n"
     ]
    }
   ],
   "source": [
    "top_popular_categories.show()"
   ]
  },
  {
   "cell_type": "markdown",
   "id": "24d6f7c3-ac79-4330-bc7e-f94659b8e6ec",
   "metadata": {},
   "source": [
    "## ✅ Krok 6 (opcjonalnie): Zapis do pliku CSV"
   ]
  },
  {
   "cell_type": "code",
   "execution_count": 9,
   "id": "2e18a4fc-9f23-496c-b2b2-0260f8a846ec",
   "metadata": {
    "ExecuteTime": {
     "end_time": "2025-04-25T18:00:31.900289Z",
     "start_time": "2025-04-25T18:00:31.467420Z"
    }
   },
   "outputs": [],
   "source": [
    "popular_categories_location = f\"{output_tables}/popular_categories\"\n",
    "top_popular_categories.write.mode(\"overwrite\").csv(popular_categories_location, header=True)"
   ]
  },
  {
   "cell_type": "markdown",
   "id": "51bbd925-53e0-45f8-a88d-b31ed91c4332",
   "metadata": {},
   "source": [
    "### Sprawdzenie zapisanych danych"
   ]
  },
  {
   "cell_type": "code",
   "execution_count": 10,
   "id": "d9ed6bc6-a3c0-43de-a735-520519ec7071",
   "metadata": {
    "ExecuteTime": {
     "end_time": "2025-04-25T18:00:32.188664Z",
     "start_time": "2025-04-25T18:00:31.909614Z"
    }
   },
   "outputs": [],
   "source": [
    "df = spark.read.csv(popular_categories_location, header=True, inferSchema=True)"
   ]
  },
  {
   "cell_type": "code",
   "execution_count": 11,
   "id": "01b09731-4575-4ae5-a13c-14d3212ebb0d",
   "metadata": {
    "ExecuteTime": {
     "end_time": "2025-04-25T18:00:32.255636Z",
     "start_time": "2025-04-25T18:00:32.189627Z"
    }
   },
   "outputs": [
    {
     "name": "stdout",
     "output_type": "stream",
     "text": [
      "+--------------------+------+\n",
      "|       category_name| count|\n",
      "+--------------------+------+\n",
      "|              Cleats|196408|\n",
      "|      Men's Footwear|177968|\n",
      "|     Women's Apparel|168280|\n",
      "|Indoor/Outdoor Games|154384|\n",
      "|             Fishing|138600|\n",
      "|        Water Sports|124320|\n",
      "|    Camping & Hiking|109832|\n",
      "|    Cardio Equipment| 99896|\n",
      "|       Shop By Sport| 87872|\n",
      "|         Electronics| 25248|\n",
      "+--------------------+------+\n"
     ]
    }
   ],
   "source": [
    "df.show()"
   ]
  },
  {
   "cell_type": "code",
   "execution_count": 12,
   "id": "e9d6aefd-0036-4156-8e5f-b3134b948bdb",
   "metadata": {
    "ExecuteTime": {
     "end_time": "2025-04-25T18:00:32.325405Z",
     "start_time": "2025-04-25T18:00:32.256511Z"
    }
   },
   "outputs": [
    {
     "data": {
      "text/plain": "10"
     },
     "execution_count": 12,
     "metadata": {},
     "output_type": "execute_result"
    }
   ],
   "source": [
    "df.count()"
   ]
  },
  {
   "cell_type": "code",
   "outputs": [
    {
     "name": "stdout",
     "output_type": "stream",
     "text": [
      "root\n",
      " |-- category_name: string (nullable = true)\n",
      " |-- count: integer (nullable = true)\n"
     ]
    }
   ],
   "source": [
    "df.printSchema()"
   ],
   "metadata": {
    "collapsed": false,
    "ExecuteTime": {
     "end_time": "2025-04-25T18:00:32.329161Z",
     "start_time": "2025-04-25T18:00:32.326339Z"
    }
   },
   "id": "781b5bc7ae76bbb4",
   "execution_count": 13
  },
  {
   "cell_type": "code",
   "outputs": [],
   "source": [],
   "metadata": {
    "collapsed": false,
    "ExecuteTime": {
     "end_time": "2025-04-25T18:00:32.331466Z",
     "start_time": "2025-04-25T18:00:32.330065Z"
    }
   },
   "id": "d369efd70581afc0",
   "execution_count": 13
  }
 ],
 "metadata": {
  "kernelspec": {
   "display_name": "Python 3 (ipykernel)",
   "language": "python",
   "name": "python3"
  },
  "language_info": {
   "codemirror_mode": {
    "name": "ipython",
    "version": 3
   },
   "file_extension": ".py",
   "mimetype": "text/x-python",
   "name": "python",
   "nbconvert_exporter": "python",
   "pygments_lexer": "ipython3",
   "version": "3.12.2"
  }
 },
 "nbformat": 4,
 "nbformat_minor": 5
}
