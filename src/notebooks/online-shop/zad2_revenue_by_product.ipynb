{
 "cells": [
  {
   "cell_type": "markdown",
   "source": [
    " 📈 Zadanie 2: Przychód ze sprzedanych produktów (filtrowane zamówienia)\n",
    " \n",
    "Cel:\n",
    "- Wyklucz zamówienia anulowane i podejrzane o oszustwo.\n",
    "- Oblicz sumaryczny przychód dla każdego produktu.\n",
    "- Wyświetl produkty wraz z uzyskanym przychodem.\n",
    "- Zapisz wyniki do pliku CSV.\n",
    "- Zastosuj odpowiednie formatowanie i style."
   ],
   "metadata": {
    "collapsed": false
   },
   "id": "32a40e17d10567d0"
  },
  {
   "cell_type": "markdown",
   "source": [
    "## ✅ Krok 1: Uruchomienie sesji Spark"
   ],
   "metadata": {
    "collapsed": false
   },
   "id": "ba7e43c17d5d10ad"
  },
  {
   "cell_type": "code",
   "outputs": [
    {
     "name": "stderr",
     "output_type": "stream",
     "text": [
      "25/04/25 20:08:31 WARN Utils: Your hostname, Katana-Pro-2.local resolves to a loopback address: 127.0.0.1; using 192.168.0.108 instead (on interface en0)\n",
      "25/04/25 20:08:31 WARN Utils: Set SPARK_LOCAL_IP if you need to bind to another address\n",
      "Setting default log level to \"WARN\".\n",
      "To adjust logging level use sc.setLogLevel(newLevel). For SparkR, use setLogLevel(newLevel).\n",
      "25/04/25 20:08:31 WARN NativeCodeLoader: Unable to load native-hadoop library for your platform... using builtin-java classes where applicable\n",
      "25/04/25 20:08:32 WARN Utils: Service 'SparkUI' could not bind on port 4040. Attempting port 4041.\n"
     ]
    }
   ],
   "source": [
    "from pyspark.sql import SparkSession\n",
    "from pyspark.sql.functions import col, sum as _sum\n",
    "\n",
    "spark = SparkSession.builder.appName(\"ProductRevenue\").getOrCreate()"
   ],
   "metadata": {
    "collapsed": false,
    "ExecuteTime": {
     "end_time": "2025-04-25T18:08:32.532010Z",
     "start_time": "2025-04-25T18:08:30.179686Z"
    }
   },
   "id": "baccbf3362e50439",
   "execution_count": 1
  },
  {
   "cell_type": "markdown",
   "source": [
    "## ✅ Krok 2: Wczytanie danych z Parquet\n",
    "\n",
    "Wczytaj tabele `order_items` oraz `orders`:"
   ],
   "metadata": {
    "collapsed": false
   },
   "id": "ecf8816e9f94dd05"
  },
  {
   "cell_type": "code",
   "outputs": [],
   "source": [
    "project_dir = \"<PROJECT_DIR>\"\n",
    "data_dir = f\"{project_dir}/data\"\n",
    "outputs_dir = f\"{data_dir}/outputs\"\n",
    "input_tables = f\"{data_dir}/sklep/\"\n",
    "output_tables = f\"{outputs_dir}/sklep/\""
   ],
   "metadata": {
    "collapsed": false,
    "ExecuteTime": {
     "end_time": "2025-04-26T03:20:40.404406Z",
     "start_time": "2025-04-26T03:20:40.400525Z"
    }
   },
   "id": "adf8935242edd92f",
   "execution_count": 35
  },
  {
   "cell_type": "code",
   "outputs": [],
   "source": [
    "order_items = spark.read.parquet(f\"{input_tables}/order_items/\")\n",
    "orders = spark.read.parquet(f\"{input_tables}/orders/\")"
   ],
   "metadata": {
    "collapsed": false,
    "ExecuteTime": {
     "end_time": "2025-04-25T18:22:01.575506Z",
     "start_time": "2025-04-25T18:22:01.358374Z"
    }
   },
   "id": "e0e6a548bd9f2cab",
   "execution_count": 25
  },
  {
   "cell_type": "markdown",
   "source": [
    "## ✅ Krok 3: Filtrowanie poprawnych zamówień\n",
    "\n",
    "**TODO**: Usuń zamówienia o statusie `CANCELED` i `SUSPECTED_FRAUD`"
   ],
   "metadata": {
    "collapsed": false
   },
   "id": "8f0a83d794be324a"
  },
  {
   "cell_type": "code",
   "outputs": [
    {
     "ename": "ConnectionRefusedError",
     "evalue": "[Errno 61] Connection refused",
     "output_type": "error",
     "traceback": [
      "\u001B[31m---------------------------------------------------------------------------\u001B[39m",
      "\u001B[31mConnectionRefusedError\u001B[39m                    Traceback (most recent call last)",
      "\u001B[36mCell\u001B[39m\u001B[36m \u001B[39m\u001B[32mIn[36]\u001B[39m\u001B[32m, line 1\u001B[39m\n\u001B[32m----> \u001B[39m\u001B[32m1\u001B[39m valid_orders = orders.filter(~\u001B[43mcol\u001B[49m\u001B[43m(\u001B[49m\u001B[33;43m\"\u001B[39;49m\u001B[33;43morder_status\u001B[39;49m\u001B[33;43m\"\u001B[39;49m\u001B[43m)\u001B[49m.isin(\u001B[33m\"\u001B[39m\u001B[33mCANCELED\u001B[39m\u001B[33m\"\u001B[39m, \u001B[33m\"\u001B[39m\u001B[33mSUSPECTED_FRAUD\u001B[39m\u001B[33m\"\u001B[39m))\n",
      "\u001B[36mFile \u001B[39m\u001B[32m~/projects/uwm/big-data-labs/venv/lib/python3.12/site-packages/pyspark/sql/utils.py:174\u001B[39m, in \u001B[36mtry_remote_functions.<locals>.wrapped\u001B[39m\u001B[34m(*args, **kwargs)\u001B[39m\n\u001B[32m    172\u001B[39m     \u001B[38;5;28;01mreturn\u001B[39;00m \u001B[38;5;28mgetattr\u001B[39m(functions, f.\u001B[34m__name__\u001B[39m)(*args, **kwargs)\n\u001B[32m    173\u001B[39m \u001B[38;5;28;01melse\u001B[39;00m:\n\u001B[32m--> \u001B[39m\u001B[32m174\u001B[39m     \u001B[38;5;28;01mreturn\u001B[39;00m \u001B[43mf\u001B[49m\u001B[43m(\u001B[49m\u001B[43m*\u001B[49m\u001B[43margs\u001B[49m\u001B[43m,\u001B[49m\u001B[43m \u001B[49m\u001B[43m*\u001B[49m\u001B[43m*\u001B[49m\u001B[43mkwargs\u001B[49m\u001B[43m)\u001B[49m\n",
      "\u001B[36mFile \u001B[39m\u001B[32m~/projects/uwm/big-data-labs/venv/lib/python3.12/site-packages/pyspark/sql/functions.py:223\u001B[39m, in \u001B[36mcol\u001B[39m\u001B[34m(col)\u001B[39m\n\u001B[32m    196\u001B[39m \u001B[38;5;129m@try_remote_functions\u001B[39m\n\u001B[32m    197\u001B[39m \u001B[38;5;28;01mdef\u001B[39;00m\u001B[38;5;250m \u001B[39m\u001B[34mcol\u001B[39m(col: \u001B[38;5;28mstr\u001B[39m) -> Column:\n\u001B[32m    198\u001B[39m \u001B[38;5;250m    \u001B[39m\u001B[33;03m\"\"\"\u001B[39;00m\n\u001B[32m    199\u001B[39m \u001B[33;03m    Returns a :class:`~pyspark.sql.Column` based on the given column name.\u001B[39;00m\n\u001B[32m    200\u001B[39m \n\u001B[32m   (...)\u001B[39m\u001B[32m    221\u001B[39m \u001B[33;03m    Column<'x'>\u001B[39;00m\n\u001B[32m    222\u001B[39m \u001B[33;03m    \"\"\"\u001B[39;00m\n\u001B[32m--> \u001B[39m\u001B[32m223\u001B[39m     \u001B[38;5;28;01mreturn\u001B[39;00m \u001B[43m_invoke_function\u001B[49m\u001B[43m(\u001B[49m\u001B[33;43m\"\u001B[39;49m\u001B[33;43mcol\u001B[39;49m\u001B[33;43m\"\u001B[39;49m\u001B[43m,\u001B[49m\u001B[43m \u001B[49m\u001B[43mcol\u001B[49m\u001B[43m)\u001B[49m\n",
      "\u001B[36mFile \u001B[39m\u001B[32m~/projects/uwm/big-data-labs/venv/lib/python3.12/site-packages/pyspark/sql/functions.py:96\u001B[39m, in \u001B[36m_invoke_function\u001B[39m\u001B[34m(name, *args)\u001B[39m\n\u001B[32m     91\u001B[39m \u001B[38;5;250m\u001B[39m\u001B[33;03m\"\"\"\u001B[39;00m\n\u001B[32m     92\u001B[39m \u001B[33;03mInvokes JVM function identified by name with args\u001B[39;00m\n\u001B[32m     93\u001B[39m \u001B[33;03mand wraps the result with :class:`~pyspark.sql.Column`.\u001B[39;00m\n\u001B[32m     94\u001B[39m \u001B[33;03m\"\"\"\u001B[39;00m\n\u001B[32m     95\u001B[39m \u001B[38;5;28;01massert\u001B[39;00m SparkContext._active_spark_context \u001B[38;5;129;01mis\u001B[39;00m \u001B[38;5;129;01mnot\u001B[39;00m \u001B[38;5;28;01mNone\u001B[39;00m\n\u001B[32m---> \u001B[39m\u001B[32m96\u001B[39m jf = \u001B[43m_get_jvm_function\u001B[49m\u001B[43m(\u001B[49m\u001B[43mname\u001B[49m\u001B[43m,\u001B[49m\u001B[43m \u001B[49m\u001B[43mSparkContext\u001B[49m\u001B[43m.\u001B[49m\u001B[43m_active_spark_context\u001B[49m\u001B[43m)\u001B[49m\n\u001B[32m     97\u001B[39m \u001B[38;5;28;01mreturn\u001B[39;00m Column(jf(*args))\n",
      "\u001B[36mFile \u001B[39m\u001B[32m~/projects/uwm/big-data-labs/venv/lib/python3.12/site-packages/pyspark/sql/functions.py:87\u001B[39m, in \u001B[36m_get_jvm_function\u001B[39m\u001B[34m(name, sc)\u001B[39m\n\u001B[32m     82\u001B[39m \u001B[38;5;250m\u001B[39m\u001B[33;03m\"\"\"\u001B[39;00m\n\u001B[32m     83\u001B[39m \u001B[33;03mRetrieves JVM function identified by name from\u001B[39;00m\n\u001B[32m     84\u001B[39m \u001B[33;03mJava gateway associated with sc.\u001B[39;00m\n\u001B[32m     85\u001B[39m \u001B[33;03m\"\"\"\u001B[39;00m\n\u001B[32m     86\u001B[39m \u001B[38;5;28;01massert\u001B[39;00m sc._jvm \u001B[38;5;129;01mis\u001B[39;00m \u001B[38;5;129;01mnot\u001B[39;00m \u001B[38;5;28;01mNone\u001B[39;00m\n\u001B[32m---> \u001B[39m\u001B[32m87\u001B[39m \u001B[38;5;28;01mreturn\u001B[39;00m \u001B[38;5;28mgetattr\u001B[39m(\u001B[43msc\u001B[49m\u001B[43m.\u001B[49m\u001B[43m_jvm\u001B[49m\u001B[43m.\u001B[49m\u001B[43mfunctions\u001B[49m, name)\n",
      "\u001B[36mFile \u001B[39m\u001B[32m~/projects/uwm/big-data-labs/venv/lib/python3.12/site-packages/py4j/java_gateway.py:1712\u001B[39m, in \u001B[36mJVMView.__getattr__\u001B[39m\u001B[34m(self, name)\u001B[39m\n\u001B[32m   1709\u001B[39m \u001B[38;5;28;01mif\u001B[39;00m name == UserHelpAutoCompletion.KEY:\n\u001B[32m   1710\u001B[39m     \u001B[38;5;28;01mreturn\u001B[39;00m UserHelpAutoCompletion()\n\u001B[32m-> \u001B[39m\u001B[32m1712\u001B[39m answer = \u001B[38;5;28;43mself\u001B[39;49m\u001B[43m.\u001B[49m\u001B[43m_gateway_client\u001B[49m\u001B[43m.\u001B[49m\u001B[43msend_command\u001B[49m\u001B[43m(\u001B[49m\n\u001B[32m   1713\u001B[39m \u001B[43m    \u001B[49m\u001B[43mproto\u001B[49m\u001B[43m.\u001B[49m\u001B[43mREFLECTION_COMMAND_NAME\u001B[49m\u001B[43m \u001B[49m\u001B[43m+\u001B[49m\n\u001B[32m   1714\u001B[39m \u001B[43m    \u001B[49m\u001B[43mproto\u001B[49m\u001B[43m.\u001B[49m\u001B[43mREFL_GET_UNKNOWN_SUB_COMMAND_NAME\u001B[49m\u001B[43m \u001B[49m\u001B[43m+\u001B[49m\u001B[43m \u001B[49m\u001B[43mname\u001B[49m\u001B[43m \u001B[49m\u001B[43m+\u001B[49m\u001B[43m \u001B[49m\u001B[33;43m\"\u001B[39;49m\u001B[38;5;130;43;01m\\n\u001B[39;49;00m\u001B[33;43m\"\u001B[39;49m\u001B[43m \u001B[49m\u001B[43m+\u001B[49m\u001B[43m \u001B[49m\u001B[38;5;28;43mself\u001B[39;49m\u001B[43m.\u001B[49m\u001B[43m_id\u001B[49m\u001B[43m \u001B[49m\u001B[43m+\u001B[49m\n\u001B[32m   1715\u001B[39m \u001B[43m    \u001B[49m\u001B[33;43m\"\u001B[39;49m\u001B[38;5;130;43;01m\\n\u001B[39;49;00m\u001B[33;43m\"\u001B[39;49m\u001B[43m \u001B[49m\u001B[43m+\u001B[49m\u001B[43m \u001B[49m\u001B[43mproto\u001B[49m\u001B[43m.\u001B[49m\u001B[43mEND_COMMAND_PART\u001B[49m\u001B[43m)\u001B[49m\n\u001B[32m   1716\u001B[39m \u001B[38;5;28;01mif\u001B[39;00m answer == proto.SUCCESS_PACKAGE:\n\u001B[32m   1717\u001B[39m     \u001B[38;5;28;01mreturn\u001B[39;00m JavaPackage(name, \u001B[38;5;28mself\u001B[39m._gateway_client, jvm_id=\u001B[38;5;28mself\u001B[39m._id)\n",
      "\u001B[36mFile \u001B[39m\u001B[32m~/projects/uwm/big-data-labs/venv/lib/python3.12/site-packages/py4j/java_gateway.py:1036\u001B[39m, in \u001B[36mGatewayClient.send_command\u001B[39m\u001B[34m(self, command, retry, binary)\u001B[39m\n\u001B[32m   1015\u001B[39m \u001B[38;5;28;01mdef\u001B[39;00m\u001B[38;5;250m \u001B[39m\u001B[34msend_command\u001B[39m(\u001B[38;5;28mself\u001B[39m, command, retry=\u001B[38;5;28;01mTrue\u001B[39;00m, binary=\u001B[38;5;28;01mFalse\u001B[39;00m):\n\u001B[32m   1016\u001B[39m \u001B[38;5;250m    \u001B[39m\u001B[33;03m\"\"\"Sends a command to the JVM. This method is not intended to be\u001B[39;00m\n\u001B[32m   1017\u001B[39m \u001B[33;03m       called directly by Py4J users. It is usually called by\u001B[39;00m\n\u001B[32m   1018\u001B[39m \u001B[33;03m       :class:`JavaMember` instances.\u001B[39;00m\n\u001B[32m   (...)\u001B[39m\u001B[32m   1034\u001B[39m \u001B[33;03m     if `binary` is `True`.\u001B[39;00m\n\u001B[32m   1035\u001B[39m \u001B[33;03m    \"\"\"\u001B[39;00m\n\u001B[32m-> \u001B[39m\u001B[32m1036\u001B[39m     connection = \u001B[38;5;28;43mself\u001B[39;49m\u001B[43m.\u001B[49m\u001B[43m_get_connection\u001B[49m\u001B[43m(\u001B[49m\u001B[43m)\u001B[49m\n\u001B[32m   1037\u001B[39m     \u001B[38;5;28;01mtry\u001B[39;00m:\n\u001B[32m   1038\u001B[39m         response = connection.send_command(command)\n",
      "\u001B[36mFile \u001B[39m\u001B[32m~/projects/uwm/big-data-labs/venv/lib/python3.12/site-packages/py4j/clientserver.py:284\u001B[39m, in \u001B[36mJavaClient._get_connection\u001B[39m\u001B[34m(self)\u001B[39m\n\u001B[32m    281\u001B[39m     \u001B[38;5;28;01mpass\u001B[39;00m\n\u001B[32m    283\u001B[39m \u001B[38;5;28;01mif\u001B[39;00m connection \u001B[38;5;129;01mis\u001B[39;00m \u001B[38;5;28;01mNone\u001B[39;00m \u001B[38;5;129;01mor\u001B[39;00m connection.socket \u001B[38;5;129;01mis\u001B[39;00m \u001B[38;5;28;01mNone\u001B[39;00m:\n\u001B[32m--> \u001B[39m\u001B[32m284\u001B[39m     connection = \u001B[38;5;28;43mself\u001B[39;49m\u001B[43m.\u001B[49m\u001B[43m_create_new_connection\u001B[49m\u001B[43m(\u001B[49m\u001B[43m)\u001B[49m\n\u001B[32m    285\u001B[39m \u001B[38;5;28;01mreturn\u001B[39;00m connection\n",
      "\u001B[36mFile \u001B[39m\u001B[32m~/projects/uwm/big-data-labs/venv/lib/python3.12/site-packages/py4j/clientserver.py:291\u001B[39m, in \u001B[36mJavaClient._create_new_connection\u001B[39m\u001B[34m(self)\u001B[39m\n\u001B[32m    287\u001B[39m \u001B[38;5;28;01mdef\u001B[39;00m\u001B[38;5;250m \u001B[39m\u001B[34m_create_new_connection\u001B[39m(\u001B[38;5;28mself\u001B[39m):\n\u001B[32m    288\u001B[39m     connection = ClientServerConnection(\n\u001B[32m    289\u001B[39m         \u001B[38;5;28mself\u001B[39m.java_parameters, \u001B[38;5;28mself\u001B[39m.python_parameters,\n\u001B[32m    290\u001B[39m         \u001B[38;5;28mself\u001B[39m.gateway_property, \u001B[38;5;28mself\u001B[39m)\n\u001B[32m--> \u001B[39m\u001B[32m291\u001B[39m     \u001B[43mconnection\u001B[49m\u001B[43m.\u001B[49m\u001B[43mconnect_to_java_server\u001B[49m\u001B[43m(\u001B[49m\u001B[43m)\u001B[49m\n\u001B[32m    292\u001B[39m     \u001B[38;5;28mself\u001B[39m.set_thread_connection(connection)\n\u001B[32m    293\u001B[39m     \u001B[38;5;28;01mreturn\u001B[39;00m connection\n",
      "\u001B[36mFile \u001B[39m\u001B[32m~/projects/uwm/big-data-labs/venv/lib/python3.12/site-packages/py4j/clientserver.py:438\u001B[39m, in \u001B[36mClientServerConnection.connect_to_java_server\u001B[39m\u001B[34m(self)\u001B[39m\n\u001B[32m    435\u001B[39m \u001B[38;5;28;01mif\u001B[39;00m \u001B[38;5;28mself\u001B[39m.ssl_context:\n\u001B[32m    436\u001B[39m     \u001B[38;5;28mself\u001B[39m.socket = \u001B[38;5;28mself\u001B[39m.ssl_context.wrap_socket(\n\u001B[32m    437\u001B[39m         \u001B[38;5;28mself\u001B[39m.socket, server_hostname=\u001B[38;5;28mself\u001B[39m.java_address)\n\u001B[32m--> \u001B[39m\u001B[32m438\u001B[39m \u001B[38;5;28;43mself\u001B[39;49m\u001B[43m.\u001B[49m\u001B[43msocket\u001B[49m\u001B[43m.\u001B[49m\u001B[43mconnect\u001B[49m\u001B[43m(\u001B[49m\u001B[43m(\u001B[49m\u001B[38;5;28;43mself\u001B[39;49m\u001B[43m.\u001B[49m\u001B[43mjava_address\u001B[49m\u001B[43m,\u001B[49m\u001B[43m \u001B[49m\u001B[38;5;28;43mself\u001B[39;49m\u001B[43m.\u001B[49m\u001B[43mjava_port\u001B[49m\u001B[43m)\u001B[49m\u001B[43m)\u001B[49m\n\u001B[32m    439\u001B[39m \u001B[38;5;28mself\u001B[39m.stream = \u001B[38;5;28mself\u001B[39m.socket.makefile(\u001B[33m\"\u001B[39m\u001B[33mrb\u001B[39m\u001B[33m\"\u001B[39m)\n\u001B[32m    440\u001B[39m \u001B[38;5;28mself\u001B[39m.is_connected = \u001B[38;5;28;01mTrue\u001B[39;00m\n",
      "\u001B[31mConnectionRefusedError\u001B[39m: [Errno 61] Connection refused"
     ]
    }
   ],
   "source": [
    "valid_orders = orders.filter(~col(\"order_status\").isin(\"CANCELED\", \"SUSPECTED_FRAUD\"))"
   ],
   "metadata": {
    "collapsed": false,
    "ExecuteTime": {
     "end_time": "2025-04-26T03:20:54.800145Z",
     "start_time": "2025-04-26T03:20:54.629700Z"
    }
   },
   "id": "c6479fca9554de8d",
   "execution_count": 36
  },
  {
   "cell_type": "markdown",
   "source": [
    "## ✅ Krok 4: Obliczenie przychodu\n",
    "\n",
    "TODO: Połącz dane i grupuj po `order_item_product_id`, sumując `order_item_subtotal`:"
   ],
   "metadata": {
    "collapsed": false
   },
   "id": "fb91048d296d1072"
  },
  {
   "cell_type": "code",
   "outputs": [
    {
     "ename": "ConnectionRefusedError",
     "evalue": "[Errno 61] Connection refused",
     "output_type": "error",
     "traceback": [
      "\u001B[31m---------------------------------------------------------------------------\u001B[39m",
      "\u001B[31mConnectionRefusedError\u001B[39m                    Traceback (most recent call last)",
      "\u001B[36mCell\u001B[39m\u001B[36m \u001B[39m\u001B[32mIn[37]\u001B[39m\u001B[32m, line 2\u001B[39m\n\u001B[32m      1\u001B[39m revenue_per_product = order_items \\\n\u001B[32m----> \u001B[39m\u001B[32m2\u001B[39m     .join(valid_orders, \u001B[43morder_items\u001B[49m\u001B[43m.\u001B[49m\u001B[43morder_item_order_id\u001B[49m == valid_orders.order_id) \\\n\u001B[32m      3\u001B[39m     .groupBy(\u001B[33m\"\u001B[39m\u001B[33morder_item_product_id\u001B[39m\u001B[33m\"\u001B[39m) \\\n\u001B[32m      4\u001B[39m     .agg(_sum(\u001B[33m\"\u001B[39m\u001B[33morder_item_subtotal\u001B[39m\u001B[33m\"\u001B[39m).alias(\u001B[33m\"\u001B[39m\u001B[33mrevenue\u001B[39m\u001B[33m\"\u001B[39m))\n",
      "\u001B[36mFile \u001B[39m\u001B[32m~/projects/uwm/big-data-labs/venv/lib/python3.12/site-packages/pyspark/sql/dataframe.py:3132\u001B[39m, in \u001B[36mDataFrame.__getattr__\u001B[39m\u001B[34m(self, name)\u001B[39m\n\u001B[32m   3128\u001B[39m \u001B[38;5;28;01mif\u001B[39;00m name \u001B[38;5;129;01mnot\u001B[39;00m \u001B[38;5;129;01min\u001B[39;00m \u001B[38;5;28mself\u001B[39m.columns:\n\u001B[32m   3129\u001B[39m     \u001B[38;5;28;01mraise\u001B[39;00m \u001B[38;5;167;01mAttributeError\u001B[39;00m(\n\u001B[32m   3130\u001B[39m         \u001B[33m\"\u001B[39m\u001B[33m'\u001B[39m\u001B[38;5;132;01m%s\u001B[39;00m\u001B[33m'\u001B[39m\u001B[33m object has no attribute \u001B[39m\u001B[33m'\u001B[39m\u001B[38;5;132;01m%s\u001B[39;00m\u001B[33m'\u001B[39m\u001B[33m\"\u001B[39m % (\u001B[38;5;28mself\u001B[39m.\u001B[34m__class__\u001B[39m.\u001B[34m__name__\u001B[39m, name)\n\u001B[32m   3131\u001B[39m     )\n\u001B[32m-> \u001B[39m\u001B[32m3132\u001B[39m jc = \u001B[38;5;28;43mself\u001B[39;49m\u001B[43m.\u001B[49m\u001B[43m_jdf\u001B[49m\u001B[43m.\u001B[49m\u001B[43mapply\u001B[49m\u001B[43m(\u001B[49m\u001B[43mname\u001B[49m\u001B[43m)\u001B[49m\n\u001B[32m   3133\u001B[39m \u001B[38;5;28;01mreturn\u001B[39;00m Column(jc)\n",
      "\u001B[36mFile \u001B[39m\u001B[32m~/projects/uwm/big-data-labs/venv/lib/python3.12/site-packages/py4j/java_gateway.py:1321\u001B[39m, in \u001B[36mJavaMember.__call__\u001B[39m\u001B[34m(self, *args)\u001B[39m\n\u001B[32m   1314\u001B[39m args_command, temp_args = \u001B[38;5;28mself\u001B[39m._build_args(*args)\n\u001B[32m   1316\u001B[39m command = proto.CALL_COMMAND_NAME +\\\n\u001B[32m   1317\u001B[39m     \u001B[38;5;28mself\u001B[39m.command_header +\\\n\u001B[32m   1318\u001B[39m     args_command +\\\n\u001B[32m   1319\u001B[39m     proto.END_COMMAND_PART\n\u001B[32m-> \u001B[39m\u001B[32m1321\u001B[39m answer = \u001B[38;5;28;43mself\u001B[39;49m\u001B[43m.\u001B[49m\u001B[43mgateway_client\u001B[49m\u001B[43m.\u001B[49m\u001B[43msend_command\u001B[49m\u001B[43m(\u001B[49m\u001B[43mcommand\u001B[49m\u001B[43m)\u001B[49m\n\u001B[32m   1322\u001B[39m return_value = get_return_value(\n\u001B[32m   1323\u001B[39m     answer, \u001B[38;5;28mself\u001B[39m.gateway_client, \u001B[38;5;28mself\u001B[39m.target_id, \u001B[38;5;28mself\u001B[39m.name)\n\u001B[32m   1325\u001B[39m \u001B[38;5;28;01mfor\u001B[39;00m temp_arg \u001B[38;5;129;01min\u001B[39;00m temp_args:\n",
      "\u001B[36mFile \u001B[39m\u001B[32m~/projects/uwm/big-data-labs/venv/lib/python3.12/site-packages/py4j/java_gateway.py:1036\u001B[39m, in \u001B[36mGatewayClient.send_command\u001B[39m\u001B[34m(self, command, retry, binary)\u001B[39m\n\u001B[32m   1015\u001B[39m \u001B[38;5;28;01mdef\u001B[39;00m\u001B[38;5;250m \u001B[39m\u001B[34msend_command\u001B[39m(\u001B[38;5;28mself\u001B[39m, command, retry=\u001B[38;5;28;01mTrue\u001B[39;00m, binary=\u001B[38;5;28;01mFalse\u001B[39;00m):\n\u001B[32m   1016\u001B[39m \u001B[38;5;250m    \u001B[39m\u001B[33;03m\"\"\"Sends a command to the JVM. This method is not intended to be\u001B[39;00m\n\u001B[32m   1017\u001B[39m \u001B[33;03m       called directly by Py4J users. It is usually called by\u001B[39;00m\n\u001B[32m   1018\u001B[39m \u001B[33;03m       :class:`JavaMember` instances.\u001B[39;00m\n\u001B[32m   (...)\u001B[39m\u001B[32m   1034\u001B[39m \u001B[33;03m     if `binary` is `True`.\u001B[39;00m\n\u001B[32m   1035\u001B[39m \u001B[33;03m    \"\"\"\u001B[39;00m\n\u001B[32m-> \u001B[39m\u001B[32m1036\u001B[39m     connection = \u001B[38;5;28;43mself\u001B[39;49m\u001B[43m.\u001B[49m\u001B[43m_get_connection\u001B[49m\u001B[43m(\u001B[49m\u001B[43m)\u001B[49m\n\u001B[32m   1037\u001B[39m     \u001B[38;5;28;01mtry\u001B[39;00m:\n\u001B[32m   1038\u001B[39m         response = connection.send_command(command)\n",
      "\u001B[36mFile \u001B[39m\u001B[32m~/projects/uwm/big-data-labs/venv/lib/python3.12/site-packages/py4j/clientserver.py:284\u001B[39m, in \u001B[36mJavaClient._get_connection\u001B[39m\u001B[34m(self)\u001B[39m\n\u001B[32m    281\u001B[39m     \u001B[38;5;28;01mpass\u001B[39;00m\n\u001B[32m    283\u001B[39m \u001B[38;5;28;01mif\u001B[39;00m connection \u001B[38;5;129;01mis\u001B[39;00m \u001B[38;5;28;01mNone\u001B[39;00m \u001B[38;5;129;01mor\u001B[39;00m connection.socket \u001B[38;5;129;01mis\u001B[39;00m \u001B[38;5;28;01mNone\u001B[39;00m:\n\u001B[32m--> \u001B[39m\u001B[32m284\u001B[39m     connection = \u001B[38;5;28;43mself\u001B[39;49m\u001B[43m.\u001B[49m\u001B[43m_create_new_connection\u001B[49m\u001B[43m(\u001B[49m\u001B[43m)\u001B[49m\n\u001B[32m    285\u001B[39m \u001B[38;5;28;01mreturn\u001B[39;00m connection\n",
      "\u001B[36mFile \u001B[39m\u001B[32m~/projects/uwm/big-data-labs/venv/lib/python3.12/site-packages/py4j/clientserver.py:291\u001B[39m, in \u001B[36mJavaClient._create_new_connection\u001B[39m\u001B[34m(self)\u001B[39m\n\u001B[32m    287\u001B[39m \u001B[38;5;28;01mdef\u001B[39;00m\u001B[38;5;250m \u001B[39m\u001B[34m_create_new_connection\u001B[39m(\u001B[38;5;28mself\u001B[39m):\n\u001B[32m    288\u001B[39m     connection = ClientServerConnection(\n\u001B[32m    289\u001B[39m         \u001B[38;5;28mself\u001B[39m.java_parameters, \u001B[38;5;28mself\u001B[39m.python_parameters,\n\u001B[32m    290\u001B[39m         \u001B[38;5;28mself\u001B[39m.gateway_property, \u001B[38;5;28mself\u001B[39m)\n\u001B[32m--> \u001B[39m\u001B[32m291\u001B[39m     \u001B[43mconnection\u001B[49m\u001B[43m.\u001B[49m\u001B[43mconnect_to_java_server\u001B[49m\u001B[43m(\u001B[49m\u001B[43m)\u001B[49m\n\u001B[32m    292\u001B[39m     \u001B[38;5;28mself\u001B[39m.set_thread_connection(connection)\n\u001B[32m    293\u001B[39m     \u001B[38;5;28;01mreturn\u001B[39;00m connection\n",
      "\u001B[36mFile \u001B[39m\u001B[32m~/projects/uwm/big-data-labs/venv/lib/python3.12/site-packages/py4j/clientserver.py:438\u001B[39m, in \u001B[36mClientServerConnection.connect_to_java_server\u001B[39m\u001B[34m(self)\u001B[39m\n\u001B[32m    435\u001B[39m \u001B[38;5;28;01mif\u001B[39;00m \u001B[38;5;28mself\u001B[39m.ssl_context:\n\u001B[32m    436\u001B[39m     \u001B[38;5;28mself\u001B[39m.socket = \u001B[38;5;28mself\u001B[39m.ssl_context.wrap_socket(\n\u001B[32m    437\u001B[39m         \u001B[38;5;28mself\u001B[39m.socket, server_hostname=\u001B[38;5;28mself\u001B[39m.java_address)\n\u001B[32m--> \u001B[39m\u001B[32m438\u001B[39m \u001B[38;5;28;43mself\u001B[39;49m\u001B[43m.\u001B[49m\u001B[43msocket\u001B[49m\u001B[43m.\u001B[49m\u001B[43mconnect\u001B[49m\u001B[43m(\u001B[49m\u001B[43m(\u001B[49m\u001B[38;5;28;43mself\u001B[39;49m\u001B[43m.\u001B[49m\u001B[43mjava_address\u001B[49m\u001B[43m,\u001B[49m\u001B[43m \u001B[49m\u001B[38;5;28;43mself\u001B[39;49m\u001B[43m.\u001B[49m\u001B[43mjava_port\u001B[49m\u001B[43m)\u001B[49m\u001B[43m)\u001B[49m\n\u001B[32m    439\u001B[39m \u001B[38;5;28mself\u001B[39m.stream = \u001B[38;5;28mself\u001B[39m.socket.makefile(\u001B[33m\"\u001B[39m\u001B[33mrb\u001B[39m\u001B[33m\"\u001B[39m)\n\u001B[32m    440\u001B[39m \u001B[38;5;28mself\u001B[39m.is_connected = \u001B[38;5;28;01mTrue\u001B[39;00m\n",
      "\u001B[31mConnectionRefusedError\u001B[39m: [Errno 61] Connection refused"
     ]
    }
   ],
   "source": [
    "revenue_per_product = order_items \\\n",
    "    .join(valid_orders, order_items.order_item_order_id == valid_orders.order_id) \\\n",
    "    .groupBy(\"order_item_product_id\") \\\n",
    "    .agg(_sum(\"order_item_subtotal\").alias(\"revenue\"))\n"
   ],
   "metadata": {
    "collapsed": false,
    "ExecuteTime": {
     "end_time": "2025-04-26T03:21:54.886681Z",
     "start_time": "2025-04-26T03:21:54.819102Z"
    }
   },
   "id": "99e9ede92df6ee47",
   "execution_count": 37
  },
  {
   "cell_type": "markdown",
   "source": [
    "## ✅ Krok 5: Wyświetlenie wyników\n",
    "\n",
    "Wyświetl produkty z ich przychodem:"
   ],
   "metadata": {
    "collapsed": false
   },
   "id": "718609e4227f225e"
  },
  {
   "cell_type": "code",
   "outputs": [
    {
     "name": "stdout",
     "output_type": "stream",
     "text": [
      "+---------------------+------------------+\n",
      "|order_item_product_id|           revenue|\n",
      "+---------------------+------------------+\n",
      "|                  897| 78568.55933380127|\n",
      "|                  858| 44797.76123046875|\n",
      "|                  251|  74511.7201538086|\n",
      "|                  804| 71963.99922943115|\n",
      "|                   78| 72392.75991821289|\n",
      "|                  642|          106800.0|\n",
      "|                   44| 218843.5263671875|\n",
      "|                  743| 41477.56134033203|\n",
      "|                  860|     19199.6796875|\n",
      "|                  926|56220.839210510254|\n",
      "+---------------------+------------------+\n"
     ]
    }
   ],
   "source": [
    "revenue_per_product.show(10)"
   ],
   "metadata": {
    "collapsed": false,
    "ExecuteTime": {
     "end_time": "2025-04-25T18:22:05.440616Z",
     "start_time": "2025-04-25T18:22:05.227277Z"
    }
   },
   "id": "13dde52e48523c33",
   "execution_count": 28
  },
  {
   "cell_type": "markdown",
   "source": [
    "Wyświetl przychód z dwoma miejscami po przecinku:"
   ],
   "metadata": {
    "collapsed": false
   },
   "id": "37b85fade440e30e"
  },
  {
   "cell_type": "code",
   "outputs": [
    {
     "name": "stdout",
     "output_type": "stream",
     "text": [
      "+---------------------+-----------------+\n",
      "|order_item_product_id|revenue_formatted|\n",
      "+---------------------+-----------------+\n",
      "|                  897|        78,568.56|\n",
      "|                  858|        44,797.76|\n",
      "|                  251|        74,511.72|\n",
      "|                  804|        71,964.00|\n",
      "|                   78|        72,392.76|\n",
      "|                  642|       106,800.00|\n",
      "|                   44|       218,843.53|\n",
      "|                  743|        41,477.56|\n",
      "|                  860|        19,199.68|\n",
      "|                  926|        56,220.84|\n",
      "+---------------------+-----------------+\n"
     ]
    }
   ],
   "source": [
    "from pyspark.sql.functions import format_number\n",
    "\n",
    "revenue_formatted = revenue_per_product.select(\n",
    "    \"order_item_product_id\",\n",
    "    format_number(\"revenue\", 2).alias(\"revenue_formatted\")\n",
    ")\n",
    "\n",
    "revenue_formatted.show(10)"
   ],
   "metadata": {
    "collapsed": false,
    "ExecuteTime": {
     "end_time": "2025-04-25T18:22:07.261800Z",
     "start_time": "2025-04-25T18:22:07.091782Z"
    }
   },
   "id": "bf8129dbebbed17",
   "execution_count": 29
  },
  {
   "cell_type": "markdown",
   "source": [
    "Wyświetl przychód z walutą:"
   ],
   "metadata": {
    "collapsed": false
   },
   "id": "51007f2b44d1080e"
  },
  {
   "cell_type": "code",
   "outputs": [
    {
     "name": "stdout",
     "output_type": "stream",
     "text": [
      "+---------------------+------------+\n",
      "|order_item_product_id|revenue_usd |\n",
      "+---------------------+------------+\n",
      "|897                  |$ 78,568.56 |\n",
      "|858                  |$ 44,797.76 |\n",
      "|251                  |$ 74,511.72 |\n",
      "|804                  |$ 71,964.00 |\n",
      "|78                   |$ 72,392.76 |\n",
      "|642                  |$ 106,800.00|\n",
      "|44                   |$ 218,843.53|\n",
      "|743                  |$ 41,477.56 |\n",
      "|860                  |$ 19,199.68 |\n",
      "|926                  |$ 56,220.84 |\n",
      "|822                  |$ 149,152.92|\n",
      "|625                  |$ 47,197.64 |\n",
      "|93                   |$ 79,668.12 |\n",
      "|924                  |$ 53,342.64 |\n",
      "|725                  |$ 31,104.00 |\n",
      "|671                  |$ 52,077.52 |\n",
      "|305                  |$ 51,740.00 |\n",
      "|906                  |$ 87,065.16 |\n",
      "|797                  |$ 61,525.80 |\n",
      "|777                  |$ 64,951.88 |\n",
      "+---------------------+------------+\n"
     ]
    }
   ],
   "source": [
    "from pyspark.sql.functions import concat, lit\n",
    "\n",
    "revenue_with_currency = revenue_per_product.select(\n",
    "    \"order_item_product_id\",\n",
    "    concat(lit(\"$ \"), format_number(\"revenue\", 2)).alias(\"revenue_usd\")\n",
    ")\n",
    "\n",
    "revenue_with_currency.show(truncate=False)"
   ],
   "metadata": {
    "collapsed": false,
    "ExecuteTime": {
     "end_time": "2025-04-25T18:24:33.983676Z",
     "start_time": "2025-04-25T18:24:33.694351Z"
    }
   },
   "id": "aca6ba0b609f7826",
   "execution_count": 33
  },
  {
   "cell_type": "markdown",
   "source": [
    "## ✅ Krok 6: Zapis do pliku CSV\n",
    "Zapisz wyniki do 2 plików CSV:"
   ],
   "metadata": {
    "collapsed": false
   },
   "id": "5047a113afb75522"
  },
  {
   "cell_type": "code",
   "outputs": [],
   "source": [
    "revenue_per_product.write.csv(f\"{output_tables}/revenue_per_product.csv\", header=True, mode=\"overwrite\")"
   ],
   "metadata": {
    "collapsed": false,
    "ExecuteTime": {
     "end_time": "2025-04-25T18:22:29.051650Z",
     "start_time": "2025-04-25T18:22:28.791762Z"
    }
   },
   "id": "76ce016112d8cc76",
   "execution_count": 31
  },
  {
   "cell_type": "code",
   "outputs": [
    {
     "data": {
      "text/plain": "'../../data/outputs/sklep//revenue_per_product.csv'"
     },
     "execution_count": 23,
     "metadata": {},
     "output_type": "execute_result"
    }
   ],
   "source": [],
   "metadata": {
    "collapsed": false,
    "ExecuteTime": {
     "end_time": "2025-04-25T18:19:40.431625Z",
     "start_time": "2025-04-25T18:19:40.423652Z"
    }
   },
   "id": "e7a6484daf9f01d0",
   "execution_count": 23
  },
  {
   "cell_type": "code",
   "outputs": [],
   "source": [],
   "metadata": {
    "collapsed": false
   },
   "id": "357895410affc104"
  }
 ],
 "metadata": {
  "kernelspec": {
   "display_name": "Python 3",
   "language": "python",
   "name": "python3"
  },
  "language_info": {
   "codemirror_mode": {
    "name": "ipython",
    "version": 2
   },
   "file_extension": ".py",
   "mimetype": "text/x-python",
   "name": "python",
   "nbconvert_exporter": "python",
   "pygments_lexer": "ipython2",
   "version": "2.7.6"
  }
 },
 "nbformat": 4,
 "nbformat_minor": 5
}
