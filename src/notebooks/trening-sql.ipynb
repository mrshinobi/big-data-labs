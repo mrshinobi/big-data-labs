{
 "cells": [
  {
   "cell_type": "code",
   "execution_count": null,
   "id": "initial_id",
   "metadata": {
    "collapsed": true
   },
   "outputs": [],
   "source": [
    "from pyspark.sql import SparkSession"
   ]
  },
  {
   "cell_type": "code",
   "outputs": [],
   "source": [
    "spark = SparkSession.builder.appName('nlp').getOrCreate()\n",
    "spark"
   ],
   "metadata": {
    "collapsed": false
   },
   "id": "8a7602c311a08a69",
   "execution_count": null
  },
  {
   "cell_type": "code",
   "outputs": [],
   "source": [
    "categories = spark.read.parquet(\"../../data/sklep/categories\")\n",
    "categories.printSchema()"
   ],
   "metadata": {
    "collapsed": false
   },
   "id": "b2ba1d33c3c3079b",
   "execution_count": null
  },
  {
   "cell_type": "code",
   "outputs": [],
   "source": [
    "customers = spark.read.parquet(\"../../data/sklep/customers\")\n",
    "customers.printSchema()"
   ],
   "metadata": {
    "collapsed": false
   },
   "id": "37025d871dd3ebc8",
   "execution_count": null
  },
  {
   "cell_type": "code",
   "outputs": [],
   "source": [
    "customers.show(5)"
   ],
   "metadata": {
    "collapsed": false
   },
   "id": "164fd27a548dc5ca",
   "execution_count": null
  },
  {
   "cell_type": "code",
   "outputs": [],
   "source": [
    "departments = spark.read.parquet(\"../../data/sklep/departments\")\n",
    "departments.printSchema()\n",
    "departments.show(5)"
   ],
   "metadata": {
    "collapsed": false
   },
   "id": "e1367a2d447286ff",
   "execution_count": null
  },
  {
   "cell_type": "code",
   "outputs": [],
   "source": [
    "order_items = spark.read.parquet(\"../../data/sklep/order_items\")\n",
    "order_items.printSchema()\n",
    "order_items.toPandas().head(5)"
   ],
   "metadata": {
    "collapsed": false
   },
   "id": "4203b0988ca71330",
   "execution_count": null
  },
  {
   "cell_type": "code",
   "outputs": [],
   "source": [
    "orders = spark.read.parquet(\"../../data/sklep/orders\")\n",
    "orders.printSchema()\n",
    "orders.head(5)"
   ],
   "metadata": {
    "collapsed": false
   },
   "id": "833979e58e36beba",
   "execution_count": null
  },
  {
   "cell_type": "code",
   "outputs": [],
   "source": [
    "products = spark.read.parquet(\"../../data/sklep/products\")\n",
    "products.printSchema()\n",
    "products.head(5)"
   ],
   "metadata": {
    "collapsed": false
   },
   "id": "9a36211bae088083",
   "execution_count": null
  },
  {
   "cell_type": "code",
   "outputs": [],
   "source": [
    "join_types = [\"inner\", \"cross\", \"outer\", \"full\", \"left_outer\", \"right_outer\", \"left_semi\", \"left_anti\"]"
   ],
   "metadata": {
    "collapsed": false
   },
   "id": "9b62fb95e4d11e1c",
   "execution_count": null
  },
  {
   "cell_type": "code",
   "outputs": [],
   "source": [
    "categories.join(departments, categories.category_department_id == departments.department_id).show(5)"
   ],
   "metadata": {
    "collapsed": false
   },
   "id": "17da868d6c296b3a",
   "execution_count": null
  },
  {
   "cell_type": "code",
   "outputs": [],
   "source": [
    "for join_type in join_types:\n",
    "    cats_on_deps = categories.join(other=departments, on=categories.category_department_id == departments.department_id, how=join_type)\n",
    "    count = cats_on_deps.count()\n",
    "    print(join_type, count)"
   ],
   "metadata": {
    "collapsed": false
   },
   "id": "e8c4f2fc063e960d",
   "execution_count": null
  },
  {
   "cell_type": "code",
   "outputs": [],
   "source": [
    "order_items.join(products, order_items.order_item_product_id == products.product_id).show(5)"
   ],
   "metadata": {
    "collapsed": false
   },
   "id": "560f730bee6680b2",
   "execution_count": null
  },
  {
   "cell_type": "code",
   "outputs": [],
   "source": [
    "spark"
   ],
   "metadata": {
    "collapsed": false
   },
   "id": "4a4fd9bb1f4e3566",
   "execution_count": null
  },
  {
   "cell_type": "code",
   "outputs": [],
   "source": [
    "customers.createOrReplaceTempView(\"customers\")"
   ],
   "metadata": {
    "collapsed": false
   },
   "id": "59512bb66c8a8601",
   "execution_count": null
  },
  {
   "cell_type": "code",
   "outputs": [],
   "source": [
    "df = spark.sql(\"SELECT * FROM customers\")"
   ],
   "metadata": {
    "collapsed": false
   },
   "id": "e36a578dd739ffdb",
   "execution_count": null
  },
  {
   "cell_type": "code",
   "outputs": [],
   "source": [
    "df.show(5)"
   ],
   "metadata": {
    "collapsed": false
   },
   "id": "89cd8020d0c2128b",
   "execution_count": null
  },
  {
   "cell_type": "code",
   "outputs": [],
   "source": [
    "df.toPandas().head(5)"
   ],
   "metadata": {
    "collapsed": false
   },
   "id": "f97366ce185d6612",
   "execution_count": null
  },
  {
   "cell_type": "code",
   "outputs": [],
   "source": [
    "data_frames = [categories, departments, order_items, orders, products]\n",
    "data_frames_names = [\"categories\", \"departments\", \"order_items\", \"orders\", \"products\"]\n",
    "for df, df_name in zip(data_frames, data_frames_names):\n",
    "    df.createOrReplaceTempView(df_name)"
   ],
   "metadata": {
    "collapsed": false
   },
   "id": "d7e57b6111ffb8f2",
   "execution_count": null
  },
  {
   "cell_type": "code",
   "outputs": [],
   "source": [
    "spark.sql(\"select * from categories\").show(5)"
   ],
   "metadata": {
    "collapsed": false
   },
   "id": "6c89552ebdcc9ac6",
   "execution_count": null
  },
  {
   "cell_type": "code",
   "outputs": [],
   "source": [
    "spark.sql(\"select category_id, category_name from categories\").show(5)"
   ],
   "metadata": {
    "collapsed": false
   },
   "id": "b09c449a68c10525",
   "execution_count": null
  },
  {
   "cell_type": "code",
   "outputs": [],
   "source": [
    "spark.sql(\"select distinct category_id, category_name from categories where category_id = 1\").show(5)"
   ],
   "metadata": {
    "collapsed": false
   },
   "id": "4f57e92ebf8e5706",
   "execution_count": null
  },
  {
   "cell_type": "code",
   "outputs": [],
   "source": [
    "with open(\"../../src/sql/select_category.sql\", \"r\") as f:\n",
    "    category_query_template = f.read()\n"
   ],
   "metadata": {
    "collapsed": false
   },
   "id": "6865a8616b232ed1",
   "execution_count": null
  },
  {
   "cell_type": "code",
   "outputs": [],
   "source": [
    "category_query_template"
   ],
   "metadata": {
    "collapsed": false
   },
   "id": "7397d75df065dca8",
   "execution_count": null
  },
  {
   "cell_type": "code",
   "outputs": [],
   "source": [
    "category_query_template.format(category_id=1)"
   ],
   "metadata": {
    "collapsed": false
   },
   "id": "92059133ebf1bfcb",
   "execution_count": null
  },
  {
   "cell_type": "code",
   "outputs": [],
   "source": [
    "spark.sql(category_query_template.format(category_id=1)).show(5)"
   ],
   "metadata": {
    "collapsed": false
   },
   "id": "fb7181dc4ab682d3",
   "execution_count": null
  },
  {
   "cell_type": "code",
   "outputs": [],
   "source": [
    "def get_query_template(query_name: str) -> str:\n",
    "    with open(f\"../../src/sql/{query_name}.sql\", \"r\") as f:\n",
    "        return f.read()\n",
    "\n",
    "def get_query(query_name: str, **kwargs) -> str:\n",
    "    return get_query_template(query_name).format(**kwargs)"
   ],
   "metadata": {
    "collapsed": false
   },
   "id": "16c3b6dd0255e615",
   "execution_count": null
  },
  {
   "cell_type": "code",
   "outputs": [],
   "source": [
    "spark.sql(get_query(\"select_category\", category_id=1)).show(5)"
   ],
   "metadata": {
    "collapsed": false
   },
   "id": "b154bb4b0c731d70",
   "execution_count": null
  },
  {
   "cell_type": "code",
   "outputs": [],
   "source": [
    "orders.show(5)"
   ],
   "metadata": {
    "collapsed": false
   },
   "id": "c161c6d0aa931234",
   "execution_count": null
  },
  {
   "cell_type": "code",
   "outputs": [],
   "source": [
    "orders.select(\"order_status\").distinct().show()"
   ],
   "metadata": {
    "collapsed": false
   },
   "id": "d74baa8221f27b2b",
   "execution_count": null
  },
  {
   "cell_type": "code",
   "outputs": [],
   "source": [
    "spark.sql(\"select distinct order_status from orders\").show()"
   ],
   "metadata": {
    "collapsed": false
   },
   "id": "6a9e0d47ffd0f9dc",
   "execution_count": null
  },
  {
   "cell_type": "code",
   "outputs": [],
   "source": [
    "df = spark.sql(\"select distinct order_status from orders\")\n",
    "df"
   ],
   "metadata": {
    "collapsed": false
   },
   "id": "bc0d67fc8a46bc7b",
   "execution_count": null
  },
  {
   "cell_type": "code",
   "outputs": [],
   "source": [
    "df.collect()"
   ],
   "metadata": {
    "collapsed": false
   },
   "id": "5781832498be0809",
   "execution_count": null
  },
  {
   "cell_type": "code",
   "outputs": [],
   "source": [
    "df.collect()[0]"
   ],
   "metadata": {
    "collapsed": false
   },
   "id": "d4de1c47ddc4da05",
   "execution_count": null
  },
  {
   "cell_type": "code",
   "outputs": [],
   "source": [
    "df.collect()[0].order_status"
   ],
   "metadata": {
    "collapsed": false
   },
   "id": "d23fe8f4868df810",
   "execution_count": null
  },
  {
   "cell_type": "code",
   "outputs": [],
   "source": [
    "df.collect()[0][\"order_status\"]"
   ],
   "metadata": {
    "collapsed": false
   },
   "id": "fedce82edb50aba5",
   "execution_count": null
  },
  {
   "cell_type": "code",
   "outputs": [],
   "source": [
    "df.collect()[0][0]"
   ],
   "metadata": {
    "collapsed": false
   },
   "id": "adb636b1955d5f53",
   "execution_count": null
  },
  {
   "cell_type": "code",
   "outputs": [],
   "source": [
    "df.collect()[0].asDict()"
   ],
   "metadata": {
    "collapsed": false
   },
   "id": "b12e67dc159e0ac6",
   "execution_count": null
  },
  {
   "cell_type": "code",
   "outputs": [],
   "source": [
    "df = spark.sql(\"select distinct order_status from orders order by order_status\")\n",
    "df.show()"
   ],
   "metadata": {
    "collapsed": false
   },
   "id": "c75b4096ec24ec6e",
   "execution_count": null
  },
  {
   "cell_type": "code",
   "outputs": [],
   "source": [
    "orders.select(\"order_status\").distinct().orderBy(\"order_status\").show()"
   ],
   "metadata": {
    "collapsed": false
   },
   "id": "6db9d50c0f4ca22b",
   "execution_count": null
  },
  {
   "cell_type": "code",
   "outputs": [],
   "source": [
    "query = \"\"\"\n",
    "select c.category_name, count(order_item_quantity) as count\n",
    "from order_items oi\n",
    "inner join products p on oi.order_item_product_id = p.product_id\n",
    "inner join categories c on c.category_id = p.product_category_id\n",
    "group by c.category_name\n",
    "order by count desc\n",
    "limit 10;\n",
    "\"\"\""
   ],
   "metadata": {
    "collapsed": false
   },
   "id": "d1f179abd12369a",
   "execution_count": null
  },
  {
   "cell_type": "code",
   "outputs": [],
   "source": [
    "spark.sql(query).show()"
   ],
   "metadata": {
    "collapsed": false
   },
   "id": "948ae61a09b01755",
   "execution_count": null
  },
  {
   "cell_type": "code",
   "outputs": [],
   "source": [
    "query = get_query(\"top_categories\")\n",
    "query"
   ],
   "metadata": {
    "collapsed": false
   },
   "id": "e313cbcb207419b",
   "execution_count": null
  },
  {
   "cell_type": "code",
   "outputs": [],
   "source": [
    "spark.sql(query).show()"
   ],
   "metadata": {
    "collapsed": false
   },
   "id": "44feff59c4741373",
   "execution_count": null
  },
  {
   "cell_type": "code",
   "outputs": [],
   "source": [
    "query = \"\"\"\n",
    "select\n",
    "    oi.order_item_product_id,\n",
    "    sum(cast(oi.order_item_subtotal as float)) as revenue\n",
    "from order_items oi\n",
    "inner join orders o on oi.order_item_order_id = o.order_id\n",
    "where o.order_status <> 'CANCELED' and o.order_status <> 'SUSPECTED_FRAUD'\n",
    "group by order_item_product_id;\n",
    "\"\"\""
   ],
   "metadata": {
    "collapsed": false
   },
   "id": "2951d332df2530ba",
   "execution_count": null
  },
  {
   "cell_type": "code",
   "outputs": [],
   "source": [
    "spark.sql(query).show()"
   ],
   "metadata": {
    "collapsed": false
   },
   "id": "374b68648db57eff",
   "execution_count": null
  },
  {
   "cell_type": "code",
   "outputs": [],
   "source": [
    "spark"
   ],
   "metadata": {
    "collapsed": false
   },
   "id": "21eaab65cd118192",
   "execution_count": null
  },
  {
   "cell_type": "code",
   "outputs": [],
   "source": [
    "categories.write.mode(\"overwrite\").parquet(\"../../data/categories.parquet\")"
   ],
   "metadata": {
    "collapsed": false
   },
   "id": "4721c32c537e4631",
   "execution_count": null
  },
  {
   "cell_type": "code",
   "outputs": [],
   "source": [
    "customers.write.mode(\"overwrite\").csv(\"../../data/customers.csv\")"
   ],
   "metadata": {
    "collapsed": false
   },
   "id": "b8edfdc6be105da",
   "execution_count": null
  },
  {
   "cell_type": "code",
   "outputs": [],
   "source": [],
   "metadata": {
    "collapsed": false
   },
   "id": "ecc710ac30c1fc5"
  }
 ],
 "metadata": {
  "kernelspec": {
   "display_name": "Python 3",
   "language": "python",
   "name": "python3"
  },
  "language_info": {
   "codemirror_mode": {
    "name": "ipython",
    "version": 2
   },
   "file_extension": ".py",
   "mimetype": "text/x-python",
   "name": "python",
   "nbconvert_exporter": "python",
   "pygments_lexer": "ipython2",
   "version": "2.7.6"
  }
 },
 "nbformat": 4,
 "nbformat_minor": 5
}
